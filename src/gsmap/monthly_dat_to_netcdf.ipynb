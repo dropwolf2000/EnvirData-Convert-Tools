{
 "cells": [
  {
   "cell_type": "code",
   "id": "initial_id",
   "metadata": {
    "collapsed": true,
    "ExecuteTime": {
     "end_time": "2024-05-10T07:20:22.983560Z",
     "start_time": "2024-05-10T07:20:22.971413Z"
    }
   },
   "source": [
    "import datetime\n",
    "import os\n",
    "import sys\n",
    "import numpy as np\n",
    "import pandas as pd\n",
    "from osgeo import gdal\n",
    "import xarray as xr\n",
    "\n",
    "from pathlib import Path\n",
    "\n",
    "from tqdm import tqdm\n",
    "\n",
    "from joblib import Parallel, delayed"
   ],
   "outputs": [],
   "execution_count": 19
  },
  {
   "metadata": {},
   "cell_type": "markdown",
   "source": "## GSMaP monthly dat to netCDF",
   "id": "d387a611283b0074"
  },
  {
   "metadata": {},
   "cell_type": "markdown",
   "source": "##### funcs",
   "id": "b1c0c7ee07366d98"
  },
  {
   "metadata": {},
   "cell_type": "markdown",
   "source": "",
   "id": "71f342a2aa4b1015"
  },
  {
   "metadata": {
    "ExecuteTime": {
     "end_time": "2024-05-10T07:20:25.013296Z",
     "start_time": "2024-05-10T07:20:24.997004Z"
    }
   },
   "cell_type": "code",
   "source": [
    "def read_dat(dat_file, data_shape=None):\n",
    "    # monthly数据分为两层 \n",
    "    # 包含两个全球字段：月平均降雨率；以及每月有效像素（≧0毫米）的数量。前者的单位是[毫米/小时]，缺失值为-999.9。两层数据相乘得到的是月总降水量[毫米/月]。\n",
    "    \n",
    "    # with open(dat_file, 'rb'):\n",
    "    dat_data = np.fromfile(dat_file, dtype='<f', count=-1)\n",
    "\n",
    "    # reshape\n",
    "    if data_shape:\n",
    "        dat_data = dat_data.reshape(data_shape)\n",
    "        \n",
    "\n",
    "    return dat_data\n",
    "\n",
    "\n",
    "def to_1month_netcdf(data, time, geotransform, nc_var_name):\n",
    "    \n",
    "    # # expand dims for 1day\n",
    "    # # get data shape\n",
    "    # if len(data.shape) == 2:\n",
    "    #     lat_len, lon_len = data.shape\n",
    "    #     data = np.expand_dims(data, axis=0)\n",
    "    # else:\n",
    "    #     _, lat_len, lon_len = data.shape\n",
    "    \n",
    "    # get data shape\n",
    "    lat_len, lon_len = data.shape\n",
    "    \n",
    "    # calc lon and lat series\n",
    "    lon = np.arange(geotransform[0], geotransform[0] + geotransform[1] * lon_len, geotransform[1])\n",
    "    lon = np.round(lon, 2)\n",
    "    lat = np.arange(geotransform[3], geotransform[3] + geotransform[5] * lat_len, geotransform[5])\n",
    "    lat = np.round(lat, 2)\n",
    "\n",
    "    \n",
    "    # create xarray dataset\n",
    "    dst = xr.Dataset(\n",
    "        {\n",
    "            'precipitation': (['latitude', 'longitude'], data)\n",
    "        },\n",
    "        coords={\n",
    "            'longitude': lon,\n",
    "            'latitude': lat,\n",
    "            'time': time\n",
    "        }\n",
    "    )\n",
    "    \n",
    "    dst.attrs['title'] = nc_var_name + 'Monthly Precipitation'\n",
    "    dst.attrs['description'] = f'GSMap {nc_var_name} Monthly Precipitation'\n",
    "    \n",
    "    dst['precipitation'].attrs['units'] = 'mm/month'\n",
    "    dst['precipitation'].attrs['long_name'] = 'Monthly Precipitation'\n",
    "    \n",
    "    return dst\n"
   ],
   "id": "1a41f21be6bf507a",
   "outputs": [],
   "execution_count": 20
  },
  {
   "metadata": {},
   "cell_type": "markdown",
   "source": "##### run",
   "id": "d5098c3ca11e0674"
  },
  {
   "metadata": {
    "ExecuteTime": {
     "end_time": "2024-05-10T07:20:25.989730Z",
     "start_time": "2024-05-10T07:20:25.976728Z"
    }
   },
   "cell_type": "code",
   "source": [
    "glob_gsmap_geotrans = (0, 0.1, 0, 60, 0, -0.1)\n",
    "glob_varname = 'GSMaP-STD-V8-G'\n",
    "glob_datdir = Path(r'D:\\DATA\\gsmap_testdata\\monthly_test\\input')\n",
    "glob_ncdir = Path(r'D:\\DATA\\gsmap_testdata\\monthly_test\\output_nc')\n"
   ],
   "id": "3edf27c4b12b63dd",
   "outputs": [],
   "execution_count": 21
  },
  {
   "metadata": {
    "ExecuteTime": {
     "end_time": "2024-05-10T07:20:26.423555Z",
     "start_time": "2024-05-10T07:20:26.414689Z"
    }
   },
   "cell_type": "code",
   "source": [
    "# 用于文件名切片\n",
    "st, ed = 12, 18"
   ],
   "id": "2c12b9f8ac0dada4",
   "outputs": [],
   "execution_count": 22
  },
  {
   "metadata": {
    "ExecuteTime": {
     "end_time": "2024-05-10T07:20:26.842639Z",
     "start_time": "2024-05-10T07:20:26.830555Z"
    }
   },
   "cell_type": "code",
   "source": [
    "dat_files = list(glob_datdir.glob('*.dat'))\n",
    "# 修改日期字符串 格式如 20190101\n",
    "test_dt = dat_files[0].name[st:ed]\n",
    "print(test_dt)\n",
    "datetime.datetime.strptime(test_dt, '%Y%m')"
   ],
   "id": "cb7be4be07758ecc",
   "outputs": [
    {
     "name": "stdout",
     "output_type": "stream",
     "text": [
      "202001\n"
     ]
    },
    {
     "data": {
      "text/plain": [
       "datetime.datetime(2020, 1, 1, 0, 0)"
      ]
     },
     "execution_count": 23,
     "metadata": {},
     "output_type": "execute_result"
    }
   ],
   "execution_count": 23
  },
  {
   "metadata": {
    "ExecuteTime": {
     "end_time": "2024-05-10T07:20:27.430498Z",
     "start_time": "2024-05-10T07:20:27.382718Z"
    }
   },
   "cell_type": "code",
   "source": [
    "for d in dat_files:\n",
    "    print(f'[ INFO ] Convert - {d.stem}')\n",
    "    # read dat\n",
    "    data = read_dat(d, data_shape=(2, 1200, 3600))\n",
    "    # convert to mm/month\n",
    "    rain_rate = data[0]\n",
    "    rain_rate[rain_rate < 0] = 0\n",
    "    rain_count = data[1]\n",
    "    \n",
    "    data = rain_rate * rain_count\n",
    "\n",
    "    # create time\n",
    "    dt_str = d.name[st:ed]\n",
    "    \n",
    "    \n",
    "    time = pd.to_datetime(dt_str, format='%Y%m')\n",
    "    date_ = pd.date_range(time, periods=1 , freq='D')[0]\n",
    "    \n",
    "    # to netcdf\n",
    "    nc_var_name = glob_varname\n",
    "    dst = to_1month_netcdf(data, date_, glob_gsmap_geotrans, nc_var_name)\n",
    "    \n",
    "    # save\n",
    "    nc_file = glob_ncdir.joinpath(f'{nc_var_name}_{dt_str}.nc')\n",
    "    dst.to_netcdf(nc_file)"
   ],
   "id": "bd3cbed72993806c",
   "outputs": [
    {
     "name": "stdout",
     "output_type": "stream",
     "text": [
      "[ INFO ] Convert - gsmap_gauge.202001.0.1d.monthly.v8.0000.1\n"
     ]
    }
   ],
   "execution_count": 24
  },
  {
   "metadata": {},
   "cell_type": "code",
   "source": "",
   "id": "1656a35c08e3937f",
   "outputs": [],
   "execution_count": null
  }
 ],
 "metadata": {
  "kernelspec": {
   "display_name": "Python 3",
   "language": "python",
   "name": "python3"
  },
  "language_info": {
   "codemirror_mode": {
    "name": "ipython",
    "version": 2
   },
   "file_extension": ".py",
   "mimetype": "text/x-python",
   "name": "python",
   "nbconvert_exporter": "python",
   "pygments_lexer": "ipython2",
   "version": "2.7.6"
  }
 },
 "nbformat": 4,
 "nbformat_minor": 5
}
