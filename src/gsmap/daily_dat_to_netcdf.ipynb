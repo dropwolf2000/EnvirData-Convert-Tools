{
 "cells": [
  {
   "cell_type": "code",
   "id": "initial_id",
   "metadata": {
    "collapsed": true,
    "ExecuteTime": {
     "end_time": "2024-05-10T06:43:13.952179Z",
     "start_time": "2024-05-10T06:43:13.934384Z"
    }
   },
   "source": [
    "import datetime\n",
    "import os\n",
    "import sys\n",
    "import numpy as np\n",
    "import pandas as pd\n",
    "from osgeo import gdal\n",
    "import xarray as xr\n",
    "from pathlib import Path\n",
    "\n",
    "from tqdm import tqdm\n",
    "\n",
    "from joblib import Parallel, delayed"
   ],
   "outputs": [],
   "execution_count": 51
  },
  {
   "metadata": {},
   "cell_type": "markdown",
   "source": "## GSMaP daily dat to netCDF",
   "id": "d387a611283b0074"
  },
  {
   "metadata": {},
   "cell_type": "markdown",
   "source": "##### funcs",
   "id": "b1c0c7ee07366d98"
  },
  {
   "metadata": {},
   "cell_type": "markdown",
   "source": "",
   "id": "71f342a2aa4b1015"
  },
  {
   "metadata": {
    "ExecuteTime": {
     "end_time": "2024-05-10T06:43:15.410720Z",
     "start_time": "2024-05-10T06:43:15.397720Z"
    }
   },
   "cell_type": "code",
   "source": [
    "def read_dat(dat_file, data_shape=None, neg_to_zero=True):\n",
    "    with open(dat_file, 'rb'):\n",
    "        dat_data = np.fromfile(dat_file, dtype='<f', count=-1)\n",
    "\n",
    "    # reshape\n",
    "    if data_shape:\n",
    "        dat_data = dat_data.reshape(data_shape)\n",
    "        \n",
    "    # negative to zero\n",
    "    if neg_to_zero:\n",
    "        dat_data[dat_data < 0] = 0\n",
    "    \n",
    "    return dat_data\n",
    "\n",
    "\n",
    "def to_1day_netcdf(data, time, geotransform, nc_var_name):\n",
    "    \n",
    "    # # expand dims for 1day\n",
    "    # # get data shape\n",
    "    # if len(data.shape) == 2:\n",
    "    #     lat_len, lon_len = data.shape\n",
    "    #     data = np.expand_dims(data, axis=0)\n",
    "    # else:\n",
    "    #     _, lat_len, lon_len = data.shape\n",
    "    \n",
    "    # get data shape\n",
    "    lat_len, lon_len = data.shape\n",
    "    \n",
    "    # calc lon and lat series\n",
    "    lon = np.arange(geotransform[0], geotransform[0] + geotransform[1] * lon_len, geotransform[1])\n",
    "    lon = np.round(lon, 2)\n",
    "    lat = np.arange(geotransform[3], geotransform[3] + geotransform[5] * lat_len, geotransform[5])\n",
    "    lat = np.round(lat, 2)\n",
    "\n",
    "    \n",
    "    # create xarray dataset\n",
    "    dst = xr.Dataset(\n",
    "        {\n",
    "            'precipitation': (['latitude', 'longitude'], data)\n",
    "        },\n",
    "        coords={\n",
    "            'longitude': lon,\n",
    "            'latitude': lat,\n",
    "            'time': time\n",
    "        }\n",
    "    )\n",
    "    \n",
    "    dst.attrs['title'] = nc_var_name + 'Daily Precipitation'\n",
    "    dst.attrs['description'] = f'GSMap {nc_var_name} Daily Precipitation'\n",
    "    \n",
    "    dst['precipitation'].attrs['units'] = 'mm/day'\n",
    "    dst['precipitation'].attrs['long_name'] = 'Daily Precipitation'\n",
    "    \n",
    "    return dst\n"
   ],
   "id": "1a41f21be6bf507a",
   "outputs": [],
   "execution_count": 52
  },
  {
   "metadata": {},
   "cell_type": "markdown",
   "source": "##### run",
   "id": "d5098c3ca11e0674"
  },
  {
   "metadata": {
    "ExecuteTime": {
     "end_time": "2024-05-10T06:43:16.309032Z",
     "start_time": "2024-05-10T06:43:16.305032Z"
    }
   },
   "cell_type": "code",
   "source": [
    "glob_gsmap_geotrans = (0, 0.1, 0, 60, 0, -0.1)\n",
    "glob_varname = 'GSMaP-STD-V8-G'\n",
    "glob_datdir = Path(r'D:\\DATA\\gsmap_testdata\\dat')\n",
    "glob_ncdir = Path(r'D:\\DATA\\gsmap_testdata\\output_nc')\n"
   ],
   "id": "3edf27c4b12b63dd",
   "outputs": [],
   "execution_count": 53
  },
  {
   "metadata": {
    "ExecuteTime": {
     "end_time": "2024-05-10T06:43:16.742960Z",
     "start_time": "2024-05-10T06:43:16.729957Z"
    }
   },
   "cell_type": "code",
   "source": [
    "# 用于文件名切片\n",
    "st, ed = 12, 20"
   ],
   "id": "2c12b9f8ac0dada4",
   "outputs": [],
   "execution_count": 54
  },
  {
   "metadata": {
    "ExecuteTime": {
     "end_time": "2024-05-10T06:43:17.195548Z",
     "start_time": "2024-05-10T06:43:17.182548Z"
    }
   },
   "cell_type": "code",
   "source": [
    "dat_files = list(glob_datdir.glob('*.dat'))\n",
    "# 修改日期字符串 格式如 20190101\n",
    "test_dt = dat_files[0].name[st:ed]\n",
    "print(test_dt)\n",
    "datetime.datetime.strptime(test_dt, '%Y%m%d')"
   ],
   "id": "cb7be4be07758ecc",
   "outputs": [
    {
     "name": "stdout",
     "output_type": "stream",
     "text": [
      "20181201\n"
     ]
    },
    {
     "data": {
      "text/plain": [
       "datetime.datetime(2018, 12, 1, 0, 0)"
      ]
     },
     "execution_count": 55,
     "metadata": {},
     "output_type": "execute_result"
    }
   ],
   "execution_count": 55
  },
  {
   "metadata": {
    "ExecuteTime": {
     "end_time": "2024-05-10T06:43:19.326123Z",
     "start_time": "2024-05-10T06:43:17.822293Z"
    }
   },
   "cell_type": "code",
   "source": [
    "for d in dat_files:\n",
    "    print(f'[ INFO ] Convert - {d.stem}')\n",
    "    # read dat\n",
    "    data = read_dat(d, data_shape=(1200, 3600))\n",
    "    # convert to mm/day\n",
    "    data = data * 24\n",
    "    \n",
    "    # create time\n",
    "    dt_str = d.name[st:ed]\n",
    "    \n",
    "    \n",
    "    time = pd.to_datetime(dt_str, format='%Y%m%d')\n",
    "    date_ = pd.date_range(time, periods=1 , freq='D')[0]\n",
    "    \n",
    "    # to netcdf\n",
    "    nc_var_name = glob_varname\n",
    "    dst = to_1day_netcdf(data, date_, glob_gsmap_geotrans, nc_var_name)\n",
    "    \n",
    "    # save\n",
    "    nc_file = glob_ncdir.joinpath(f'{nc_var_name}_{dt_str}.nc')\n",
    "    dst.to_netcdf(nc_file)"
   ],
   "id": "bd3cbed72993806c",
   "outputs": [
    {
     "name": "stdout",
     "output_type": "stream",
     "text": [
      "[ INFO ] Convert - gsmap_gauge.20181201.0.1d.daily.00Z-23Z.v8.0000.1\n",
      "[ INFO ] Convert - gsmap_gauge.20181202.0.1d.daily.00Z-23Z.v8.0000.1\n",
      "[ INFO ] Convert - gsmap_gauge.20181203.0.1d.daily.00Z-23Z.v8.0000.1\n",
      "[ INFO ] Convert - gsmap_gauge.20181204.0.1d.daily.00Z-23Z.v8.0000.1\n",
      "[ INFO ] Convert - gsmap_gauge.20181205.0.1d.daily.00Z-23Z.v8.0000.1\n",
      "[ INFO ] Convert - gsmap_gauge.20181206.0.1d.daily.00Z-23Z.v8.0000.1\n",
      "[ INFO ] Convert - gsmap_gauge.20181207.0.1d.daily.00Z-23Z.v8.0000.1\n",
      "[ INFO ] Convert - gsmap_gauge.20181208.0.1d.daily.00Z-23Z.v8.0000.1\n",
      "[ INFO ] Convert - gsmap_gauge.20181209.0.1d.daily.00Z-23Z.v8.0000.1\n",
      "[ INFO ] Convert - gsmap_gauge.20181210.0.1d.daily.00Z-23Z.v8.0000.1\n",
      "[ INFO ] Convert - gsmap_gauge.20181211.0.1d.daily.00Z-23Z.v8.0000.1\n",
      "[ INFO ] Convert - gsmap_gauge.20181212.0.1d.daily.00Z-23Z.v8.0000.1\n",
      "[ INFO ] Convert - gsmap_gauge.20181213.0.1d.daily.00Z-23Z.v8.0000.1\n",
      "[ INFO ] Convert - gsmap_gauge.20181214.0.1d.daily.00Z-23Z.v8.0000.1\n",
      "[ INFO ] Convert - gsmap_gauge.20181215.0.1d.daily.00Z-23Z.v8.0000.1\n",
      "[ INFO ] Convert - gsmap_gauge.20181216.0.1d.daily.00Z-23Z.v8.0000.1\n",
      "[ INFO ] Convert - gsmap_gauge.20181217.0.1d.daily.00Z-23Z.v8.0000.1\n",
      "[ INFO ] Convert - gsmap_gauge.20181218.0.1d.daily.00Z-23Z.v8.0000.1\n",
      "[ INFO ] Convert - gsmap_gauge.20181219.0.1d.daily.00Z-23Z.v8.0000.1\n",
      "[ INFO ] Convert - gsmap_gauge.20181220.0.1d.daily.00Z-23Z.v8.0000.1\n",
      "[ INFO ] Convert - gsmap_gauge.20181221.0.1d.daily.00Z-23Z.v8.0000.1\n",
      "[ INFO ] Convert - gsmap_gauge.20181222.0.1d.daily.00Z-23Z.v8.0000.1\n",
      "[ INFO ] Convert - gsmap_gauge.20181223.0.1d.daily.00Z-23Z.v8.0000.1\n",
      "[ INFO ] Convert - gsmap_gauge.20181224.0.1d.daily.00Z-23Z.v8.0000.1\n",
      "[ INFO ] Convert - gsmap_gauge.20181225.0.1d.daily.00Z-23Z.v8.0000.1\n",
      "[ INFO ] Convert - gsmap_gauge.20181226.0.1d.daily.00Z-23Z.v8.0000.1\n",
      "[ INFO ] Convert - gsmap_gauge.20181227.0.1d.daily.00Z-23Z.v8.0000.1\n",
      "[ INFO ] Convert - gsmap_gauge.20181228.0.1d.daily.00Z-23Z.v8.0000.1\n",
      "[ INFO ] Convert - gsmap_gauge.20181229.0.1d.daily.00Z-23Z.v8.0000.1\n",
      "[ INFO ] Convert - gsmap_gauge.20181230.0.1d.daily.00Z-23Z.v8.0000.1\n",
      "[ INFO ] Convert - gsmap_gauge.20181231.0.1d.daily.00Z-23Z.v8.0000.1\n",
      "[ INFO ] Convert - gsmap_gauge.20190101.0.1d.daily.00Z-23Z.v8.0000.1\n",
      "[ INFO ] Convert - gsmap_gauge.20190102.0.1d.daily.00Z-23Z.v8.0000.1\n",
      "[ INFO ] Convert - gsmap_gauge.20190103.0.1d.daily.00Z-23Z.v8.0000.1\n",
      "[ INFO ] Convert - gsmap_gauge.20190104.0.1d.daily.00Z-23Z.v8.0000.1\n",
      "[ INFO ] Convert - gsmap_gauge.20190105.0.1d.daily.00Z-23Z.v8.0000.1\n",
      "[ INFO ] Convert - gsmap_gauge.20190106.0.1d.daily.00Z-23Z.v8.0000.1\n",
      "[ INFO ] Convert - gsmap_gauge.20190107.0.1d.daily.00Z-23Z.v8.0000.1\n",
      "[ INFO ] Convert - gsmap_gauge.20190108.0.1d.daily.00Z-23Z.v8.0000.1\n",
      "[ INFO ] Convert - gsmap_gauge.20190109.0.1d.daily.00Z-23Z.v8.0000.1\n",
      "[ INFO ] Convert - gsmap_gauge.20190110.0.1d.daily.00Z-23Z.v8.0000.1\n",
      "[ INFO ] Convert - gsmap_gauge.20190111.0.1d.daily.00Z-23Z.v8.0000.1\n",
      "[ INFO ] Convert - gsmap_gauge.20190112.0.1d.daily.00Z-23Z.v8.0000.1\n",
      "[ INFO ] Convert - gsmap_gauge.20190113.0.1d.daily.00Z-23Z.v8.0000.1\n",
      "[ INFO ] Convert - gsmap_gauge.20190114.0.1d.daily.00Z-23Z.v8.0000.1\n",
      "[ INFO ] Convert - gsmap_gauge.20190115.0.1d.daily.00Z-23Z.v8.0000.1\n",
      "[ INFO ] Convert - gsmap_gauge.20190116.0.1d.daily.00Z-23Z.v8.0000.1\n",
      "[ INFO ] Convert - gsmap_gauge.20190117.0.1d.daily.00Z-23Z.v8.0000.1\n",
      "[ INFO ] Convert - gsmap_gauge.20190118.0.1d.daily.00Z-23Z.v8.0000.1\n",
      "[ INFO ] Convert - gsmap_gauge.20190119.0.1d.daily.00Z-23Z.v8.0000.1\n",
      "[ INFO ] Convert - gsmap_gauge.20190120.0.1d.daily.00Z-23Z.v8.0000.1\n",
      "[ INFO ] Convert - gsmap_gauge.20190121.0.1d.daily.00Z-23Z.v8.0000.1\n",
      "[ INFO ] Convert - gsmap_gauge.20190122.0.1d.daily.00Z-23Z.v8.0000.1\n",
      "[ INFO ] Convert - gsmap_gauge.20190123.0.1d.daily.00Z-23Z.v8.0000.1\n",
      "[ INFO ] Convert - gsmap_gauge.20190124.0.1d.daily.00Z-23Z.v8.0000.1\n",
      "[ INFO ] Convert - gsmap_gauge.20190125.0.1d.daily.00Z-23Z.v8.0000.1\n",
      "[ INFO ] Convert - gsmap_gauge.20190126.0.1d.daily.00Z-23Z.v8.0000.1\n",
      "[ INFO ] Convert - gsmap_gauge.20190127.0.1d.daily.00Z-23Z.v8.0000.1\n",
      "[ INFO ] Convert - gsmap_gauge.20190128.0.1d.daily.00Z-23Z.v8.0000.1\n",
      "[ INFO ] Convert - gsmap_gauge.20190129.0.1d.daily.00Z-23Z.v8.0000.1\n",
      "[ INFO ] Convert - gsmap_gauge.20190130.0.1d.daily.00Z-23Z.v8.0000.1\n",
      "[ INFO ] Convert - gsmap_gauge.20190131.0.1d.daily.00Z-23Z.v8.0000.1\n"
     ]
    }
   ],
   "execution_count": 56
  },
  {
   "metadata": {},
   "cell_type": "code",
   "outputs": [],
   "execution_count": null,
   "source": "",
   "id": "694cf6f34889f997"
  }
 ],
 "metadata": {
  "kernelspec": {
   "display_name": "Python 3",
   "language": "python",
   "name": "python3"
  },
  "language_info": {
   "codemirror_mode": {
    "name": "ipython",
    "version": 2
   },
   "file_extension": ".py",
   "mimetype": "text/x-python",
   "name": "python",
   "nbconvert_exporter": "python",
   "pygments_lexer": "ipython2",
   "version": "2.7.6"
  }
 },
 "nbformat": 4,
 "nbformat_minor": 5
}
